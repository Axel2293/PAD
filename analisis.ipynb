{
 "cells": [
  {
   "cell_type": "markdown",
   "metadata": {},
   "source": [
    "\n",
    "### Programación para Análisis de datos\n",
    "- Luis Roberto Chávez Mancilla\n",
    "- José Emiliano Figueroa Hernández\n",
    "- Samantha Abigail Quintero Valadez\n",
    "- Axel Escoto García\n",
    "## Stroke Prediction\n",
    "\n",
    "Este es un caso donde se analizaran distintos pacientes y sus caracteristicas clinicas. Es un conjunto de datos de análisis con una muestra de 5110 pacientes. El data set se obtuvo de: https://www.kaggle.com/datasets/fedesoriano/stroke-prediction-dataset\n",
    "\n",
    "__Sigificado de los campos__\n",
    "\n",
    "__gender__ : \"Male\", \"Female\" or \"Other\"/ nominal\n",
    "\n",
    "__age__: Edad del paciente / razón\n",
    "\n",
    "__hypertension__: 0 si el paciente no tiene hipertensión, 1 si el paciente tiene hipertensión/ nominal\n",
    "\n",
    "__heart_disease__: 0 si el paciente no tiene enfermedad en el corazón, 1 si el paciente tiene enfermedad en el corazón / nominal\n",
    "\n",
    "__work_type__: \"children\", \"Govt_jov\", \"Never_worked\", \"Private\" or \"Self-employed\"/ nominal\n",
    "\n",
    "__Residence_type__: \"Rural\" or \"Urban\"/ nominal\n",
    "\n",
    "__avg_glucose_level__: promedio de glucosa en la sangre / razón\n",
    "\n",
    "__bmi__: índice de masa corporal / razón\n",
    "\n",
    "__smoking_status__: \"formerly smoked\", \"never smoked\", \"smokes\" or \"Unknown\"* / nominal\n",
    "\n",
    "__stroke__: 1 si el paciente tuvo un derrame, 0 si no tuvo un derrame / nominal \n",
    "\n",
    "# Preguntas de investigación\n",
    "- ¿La edad puede ser un factor importante para este tipo de afección?\n",
    "- ¿Se puede relacionar el fumar con este tipo de problema?\n",
    "- ¿Cuales son los datos que más se ligan a la aparición de la enfermedad?\n",
    "- ¿Podríamos predecir si alguien sería propenso a este tipo de afección?\n",
    "- ¿Es más probable que una mujer padezca un derrame a que lo padezca un hombre?"
   ]
  },
  {
   "cell_type": "markdown",
   "metadata": {},
   "source": []
  },
  {
   "cell_type": "markdown",
   "metadata": {},
   "source": []
  },
  {
   "cell_type": "code",
   "execution_count": 70,
   "metadata": {},
   "outputs": [],
   "source": [
    "import pandas as pd\n",
    "import seaborn as sns\n",
    "from lifelines import ExponentialFitter\n",
    "import matplotlib.pyplot as plt\n"
   ]
  },
  {
   "cell_type": "code",
   "execution_count": 71,
   "metadata": {},
   "outputs": [],
   "source": [
    "# Para obtener múltiples salidas de una celda\n",
    "from IPython.core.interactiveshell import InteractiveShell\n",
    "InteractiveShell.ast_node_interactivity = \"all\""
   ]
  },
  {
   "cell_type": "code",
   "execution_count": 72,
   "metadata": {},
   "outputs": [],
   "source": [
    "# Leemos los datos mediate el encoding utf-8\n",
    "data = pd.read_csv(\"stroke.csv\", encoding=\"utf-8\")"
   ]
  },
  {
   "cell_type": "code",
   "execution_count": 73,
   "metadata": {},
   "outputs": [],
   "source": [
    "#Creamos un backup (copia profunda de los datos) de los datos\n",
    "data_backup= data.copy()"
   ]
  },
  {
   "cell_type": "code",
   "execution_count": 74,
   "metadata": {},
   "outputs": [
    {
     "data": {
      "text/plain": [
       "Index(['id', 'gender', 'age', 'hypertension', 'heart_disease', 'ever_married',\n",
       "       'work_type', 'Residence_type', 'avg_glucose_level', 'bmi',\n",
       "       'smoking_status', 'stroke'],\n",
       "      dtype='object')"
      ]
     },
     "execution_count": 74,
     "metadata": {},
     "output_type": "execute_result"
    }
   ],
   "source": [
    "# Columnas del data set\n",
    "columns=data.columns\n",
    "columns"
   ]
  },
  {
   "cell_type": "markdown",
   "metadata": {},
   "source": [
    "# Tipos de datos"
   ]
  },
  {
   "cell_type": "code",
   "execution_count": 75,
   "metadata": {},
   "outputs": [],
   "source": [
    "nominal=[\"gender\",\"hypertension\", \"heart_disease\",\"work_type\",\"Residence_type\", \"smoking_status\", \"stroke\"]\n",
    "ordinal=[]\n",
    "interval=[]\n",
    "ratio=[\"age\", \"avg_glucose_level\",\"bmi\"]"
   ]
  },
  {
   "cell_type": "markdown",
   "metadata": {},
   "source": [
    "# Conversion de nominal a categorico"
   ]
  },
  {
   "cell_type": "code",
   "execution_count": 76,
   "metadata": {},
   "outputs": [],
   "source": [
    "for i in nominal:\n",
    "    data[i] = data[i].astype(\"category\")"
   ]
  },
  {
   "cell_type": "code",
   "execution_count": 77,
   "metadata": {},
   "outputs": [
    {
     "name": "stdout",
     "output_type": "stream",
     "text": [
      "<class 'pandas.core.frame.DataFrame'>\n",
      "RangeIndex: 5110 entries, 0 to 5109\n",
      "Data columns (total 12 columns):\n",
      " #   Column             Non-Null Count  Dtype   \n",
      "---  ------             --------------  -----   \n",
      " 0   id                 5110 non-null   int64   \n",
      " 1   gender             5110 non-null   category\n",
      " 2   age                5110 non-null   float64 \n",
      " 3   hypertension       5110 non-null   category\n",
      " 4   heart_disease      5110 non-null   category\n",
      " 5   ever_married       5110 non-null   object  \n",
      " 6   work_type          5110 non-null   category\n",
      " 7   Residence_type     5110 non-null   category\n",
      " 8   avg_glucose_level  5110 non-null   float64 \n",
      " 9   bmi                4909 non-null   float64 \n",
      " 10  smoking_status     5110 non-null   category\n",
      " 11  stroke             5110 non-null   category\n",
      "dtypes: category(7), float64(3), int64(1), object(1)\n",
      "memory usage: 235.7+ KB\n"
     ]
    }
   ],
   "source": [
    "data.info()"
   ]
  },
  {
   "cell_type": "markdown",
   "metadata": {},
   "source": [
    "Ahora todos los datos nominales estan en tipo categorico de pandas."
   ]
  },
  {
   "cell_type": "markdown",
   "metadata": {},
   "source": [
    "# Datos unicos en los categoricos"
   ]
  },
  {
   "cell_type": "code",
   "execution_count": 78,
   "metadata": {},
   "outputs": [
    {
     "name": "stdout",
     "output_type": "stream",
     "text": [
      "\n",
      "Var:  gender\n",
      "['Male', 'Female', 'Other']\n",
      "Categories (3, object): ['Female', 'Male', 'Other']\n",
      "\n",
      "Var:  hypertension\n",
      "[0, 1]\n",
      "Categories (2, int64): [0, 1]\n",
      "\n",
      "Var:  heart_disease\n",
      "[1, 0]\n",
      "Categories (2, int64): [0, 1]\n",
      "\n",
      "Var:  work_type\n",
      "['Private', 'Self-employed', 'Govt_job', 'children', 'Never_worked']\n",
      "Categories (5, object): ['Govt_job', 'Never_worked', 'Private', 'Self-employed', 'children']\n",
      "\n",
      "Var:  Residence_type\n",
      "['Urban', 'Rural']\n",
      "Categories (2, object): ['Rural', 'Urban']\n",
      "\n",
      "Var:  smoking_status\n",
      "['formerly smoked', 'never smoked', 'smokes', 'Unknown']\n",
      "Categories (4, object): ['Unknown', 'formerly smoked', 'never smoked', 'smokes']\n",
      "\n",
      "Var:  stroke\n",
      "[1, 0]\n",
      "Categories (2, int64): [0, 1]\n"
     ]
    }
   ],
   "source": [
    "for i in nominal:\n",
    "    print(\"\\nVar: \",i)\n",
    "    print(data[i].unique())"
   ]
  },
  {
   "cell_type": "markdown",
   "metadata": {},
   "source": [
    "### Hallazgos\n",
    "Tenemos 4 variables dicotómicas: hypertension, heart_disease, Residence_type, y stroke. El resto varian entre 3 a 5 posibles valores lo cual los hace tener una mayor cardinalida sobre el resto, sindo la más alta el tipo de trabajo de la persona observada o work_type.\n",
    "\n",
    "Todas las variables categoricas son de baja cardinalidad."
   ]
  },
  {
   "cell_type": "markdown",
   "metadata": {},
   "source": [
    "## Exploración de cantidad de muestras por categoría\n"
   ]
  },
  {
   "cell_type": "code",
   "execution_count": 79,
   "metadata": {},
   "outputs": [
    {
     "data": {
      "text/plain": [
       "gender\n",
       "Female    2994\n",
       "Male      2115\n",
       "Other        1\n",
       "Name: count, dtype: int64"
      ]
     },
     "execution_count": 79,
     "metadata": {},
     "output_type": "execute_result"
    },
    {
     "name": "stdout",
     "output_type": "stream",
     "text": [
      "\n"
     ]
    },
    {
     "data": {
      "text/plain": [
       "hypertension\n",
       "0    4612\n",
       "1     498\n",
       "Name: count, dtype: int64"
      ]
     },
     "execution_count": 79,
     "metadata": {},
     "output_type": "execute_result"
    },
    {
     "name": "stdout",
     "output_type": "stream",
     "text": [
      "\n"
     ]
    },
    {
     "data": {
      "text/plain": [
       "heart_disease\n",
       "0    4834\n",
       "1     276\n",
       "Name: count, dtype: int64"
      ]
     },
     "execution_count": 79,
     "metadata": {},
     "output_type": "execute_result"
    },
    {
     "name": "stdout",
     "output_type": "stream",
     "text": [
      "\n"
     ]
    },
    {
     "data": {
      "text/plain": [
       "work_type\n",
       "Private          2925\n",
       "Self-employed     819\n",
       "children          687\n",
       "Govt_job          657\n",
       "Never_worked       22\n",
       "Name: count, dtype: int64"
      ]
     },
     "execution_count": 79,
     "metadata": {},
     "output_type": "execute_result"
    },
    {
     "name": "stdout",
     "output_type": "stream",
     "text": [
      "\n"
     ]
    },
    {
     "data": {
      "text/plain": [
       "Residence_type\n",
       "Urban    2596\n",
       "Rural    2514\n",
       "Name: count, dtype: int64"
      ]
     },
     "execution_count": 79,
     "metadata": {},
     "output_type": "execute_result"
    },
    {
     "name": "stdout",
     "output_type": "stream",
     "text": [
      "\n"
     ]
    },
    {
     "data": {
      "text/plain": [
       "smoking_status\n",
       "never smoked       1892\n",
       "Unknown            1544\n",
       "formerly smoked     885\n",
       "smokes              789\n",
       "Name: count, dtype: int64"
      ]
     },
     "execution_count": 79,
     "metadata": {},
     "output_type": "execute_result"
    },
    {
     "name": "stdout",
     "output_type": "stream",
     "text": [
      "\n"
     ]
    },
    {
     "data": {
      "text/plain": [
       "stroke\n",
       "0    4861\n",
       "1     249\n",
       "Name: count, dtype: int64"
      ]
     },
     "execution_count": 79,
     "metadata": {},
     "output_type": "execute_result"
    },
    {
     "name": "stdout",
     "output_type": "stream",
     "text": [
      "\n"
     ]
    }
   ],
   "source": [
    "#Sam :)\n",
    "for i in nominal + ordinal:\n",
    "    data[i].value_counts()\n",
    "    print()"
   ]
  },
  {
   "cell_type": "markdown",
   "metadata": {},
   "source": [
    "### Hallazgos\n",
    "*Samantha*\n",
    "+ Para la variable de heart_disease podemos ver que hay un desvalance entre los datos ya que la mayoria de los pacientes de la muestra no presentan enfermedades en el corazón, solo 276 de la población total presentó este tipo de problema\n",
    "\n",
    "*Axel*\n",
    "+ Para el genero solo tenemos una fila con valor \"other\" y el resto estan relativamente equilibradas, teniendo solo un 9% de diferencia entre hombre y mujer (mayor).\n",
    "+ En el dato de \"stroke\" tenemos que solamente un 5% presentó este problema y el 95% restante no ha sufrido de este.\n",
    "+ La variable de \"smoking_status\" presenta un problema al tener 1544 datos desconocidos, osea que no se sabe si el paciente fue, es o no es fumador."
   ]
  },
  {
   "cell_type": "markdown",
   "metadata": {},
   "source": [
    "# Estadisticas descriptiva de las columnas\n"
   ]
  },
  {
   "cell_type": "code",
   "execution_count": 80,
   "metadata": {},
   "outputs": [
    {
     "name": "stdout",
     "output_type": "stream",
     "text": [
      "gender\n"
     ]
    },
    {
     "data": {
      "text/plain": [
       "count       5110\n",
       "unique         3\n",
       "top       Female\n",
       "freq        2994\n",
       "Name: gender, dtype: object"
      ]
     },
     "execution_count": 80,
     "metadata": {},
     "output_type": "execute_result"
    },
    {
     "name": "stdout",
     "output_type": "stream",
     "text": [
      "\n",
      "hypertension\n"
     ]
    },
    {
     "data": {
      "text/plain": [
       "count     5110\n",
       "unique       2\n",
       "top          0\n",
       "freq      4612\n",
       "Name: hypertension, dtype: int64"
      ]
     },
     "execution_count": 80,
     "metadata": {},
     "output_type": "execute_result"
    },
    {
     "name": "stdout",
     "output_type": "stream",
     "text": [
      "\n",
      "heart_disease\n"
     ]
    },
    {
     "data": {
      "text/plain": [
       "count     5110\n",
       "unique       2\n",
       "top          0\n",
       "freq      4834\n",
       "Name: heart_disease, dtype: int64"
      ]
     },
     "execution_count": 80,
     "metadata": {},
     "output_type": "execute_result"
    },
    {
     "name": "stdout",
     "output_type": "stream",
     "text": [
      "\n",
      "work_type\n"
     ]
    },
    {
     "data": {
      "text/plain": [
       "count        5110\n",
       "unique          5\n",
       "top       Private\n",
       "freq         2925\n",
       "Name: work_type, dtype: object"
      ]
     },
     "execution_count": 80,
     "metadata": {},
     "output_type": "execute_result"
    },
    {
     "name": "stdout",
     "output_type": "stream",
     "text": [
      "\n",
      "Residence_type\n"
     ]
    },
    {
     "data": {
      "text/plain": [
       "count      5110\n",
       "unique        2\n",
       "top       Urban\n",
       "freq       2596\n",
       "Name: Residence_type, dtype: object"
      ]
     },
     "execution_count": 80,
     "metadata": {},
     "output_type": "execute_result"
    },
    {
     "name": "stdout",
     "output_type": "stream",
     "text": [
      "\n",
      "smoking_status\n"
     ]
    },
    {
     "data": {
      "text/plain": [
       "count             5110\n",
       "unique               4\n",
       "top       never smoked\n",
       "freq              1892\n",
       "Name: smoking_status, dtype: object"
      ]
     },
     "execution_count": 80,
     "metadata": {},
     "output_type": "execute_result"
    },
    {
     "name": "stdout",
     "output_type": "stream",
     "text": [
      "\n",
      "stroke\n"
     ]
    },
    {
     "data": {
      "text/plain": [
       "count     5110\n",
       "unique       2\n",
       "top          0\n",
       "freq      4861\n",
       "Name: stroke, dtype: int64"
      ]
     },
     "execution_count": 80,
     "metadata": {},
     "output_type": "execute_result"
    },
    {
     "name": "stdout",
     "output_type": "stream",
     "text": [
      "\n",
      "age\n"
     ]
    },
    {
     "data": {
      "text/plain": [
       "count    5110.000000\n",
       "mean       43.226614\n",
       "std        22.612647\n",
       "min         0.080000\n",
       "25%        25.000000\n",
       "50%        45.000000\n",
       "75%        61.000000\n",
       "max        82.000000\n",
       "Name: age, dtype: float64"
      ]
     },
     "execution_count": 80,
     "metadata": {},
     "output_type": "execute_result"
    },
    {
     "name": "stdout",
     "output_type": "stream",
     "text": [
      "\n",
      "avg_glucose_level\n"
     ]
    },
    {
     "data": {
      "text/plain": [
       "count    5110.000000\n",
       "mean      106.147677\n",
       "std        45.283560\n",
       "min        55.120000\n",
       "25%        77.245000\n",
       "50%        91.885000\n",
       "75%       114.090000\n",
       "max       271.740000\n",
       "Name: avg_glucose_level, dtype: float64"
      ]
     },
     "execution_count": 80,
     "metadata": {},
     "output_type": "execute_result"
    },
    {
     "name": "stdout",
     "output_type": "stream",
     "text": [
      "\n",
      "bmi\n"
     ]
    },
    {
     "data": {
      "text/plain": [
       "count    4909.000000\n",
       "mean       28.893237\n",
       "std         7.854067\n",
       "min        10.300000\n",
       "25%        23.500000\n",
       "50%        28.100000\n",
       "75%        33.100000\n",
       "max        97.600000\n",
       "Name: bmi, dtype: float64"
      ]
     },
     "execution_count": 80,
     "metadata": {},
     "output_type": "execute_result"
    },
    {
     "name": "stdout",
     "output_type": "stream",
     "text": [
      "\n"
     ]
    }
   ],
   "source": [
    "#Sam :)\n",
    "for i in nominal + ratio:\n",
    "    print(i)\n",
    "    data[i].describe()\n",
    "    print()"
   ]
  },
  {
   "cell_type": "markdown",
   "metadata": {},
   "source": [
    "### Hallazgos\n",
    "_Sam_\n",
    "+ Para la variable de heart_disease que es nominal, vemos que la moda es 0 (No padecen de enfermedades del corazón), con una frecuencia de 4834 de los 5110\n",
    "+ Para la variable de avg_glucose_level que es de razón pudimos obtener más datos, como lo es la media con un nivel de glucosa de 106.147677 y una desviación estandar de  45.283560\n",
    "\n",
    "*Axel*\n",
    "- Dentro de la edad podemos observar que tenemos un valor mínimo de 0.8, lo cual puede significar un recien nacido y tambien tenemos un máximo de 82 años, lo cual puede significar que tenemos una variedad de datos, inclusive de pacientes muy jovenes."
   ]
  },
  {
   "cell_type": "markdown",
   "metadata": {},
   "source": [
    "# Limpieza\n",
    "\n",
    "- Decidir que hacer con datos unknown\n",
    "- Decidir que hacer con datos NaN- inexistentes"
   ]
  },
  {
   "cell_type": "code",
   "execution_count": null,
   "metadata": {},
   "outputs": [],
   "source": []
  },
  {
   "cell_type": "markdown",
   "metadata": {},
   "source": [
    "# Porcentajes de datos por categorico"
   ]
  },
  {
   "cell_type": "code",
   "execution_count": 81,
   "metadata": {},
   "outputs": [
    {
     "name": "stdout",
     "output_type": "stream",
     "text": [
      "\n",
      "Var:  gender\n",
      "gender\n",
      "Female    58.590998\n",
      "Male      41.389432\n",
      "Other      0.019569\n",
      "Name: proportion, dtype: float64\n",
      "\n",
      "Var:  hypertension\n",
      "hypertension\n",
      "0    90.254403\n",
      "1     9.745597\n",
      "Name: proportion, dtype: float64\n",
      "\n",
      "Var:  heart_disease\n",
      "heart_disease\n",
      "0    94.598826\n",
      "1     5.401174\n",
      "Name: proportion, dtype: float64\n",
      "\n",
      "Var:  work_type\n",
      "work_type\n",
      "Private          57.240705\n",
      "Self-employed    16.027397\n",
      "children         13.444227\n",
      "Govt_job         12.857143\n",
      "Never_worked      0.430528\n",
      "Name: proportion, dtype: float64\n",
      "\n",
      "Var:  Residence_type\n",
      "Residence_type\n",
      "Urban    50.802348\n",
      "Rural    49.197652\n",
      "Name: proportion, dtype: float64\n",
      "\n",
      "Var:  smoking_status\n",
      "smoking_status\n",
      "never smoked       37.025440\n",
      "Unknown            30.215264\n",
      "formerly smoked    17.318982\n",
      "smokes             15.440313\n",
      "Name: proportion, dtype: float64\n",
      "\n",
      "Var:  stroke\n",
      "stroke\n",
      "0    95.127202\n",
      "1     4.872798\n",
      "Name: proportion, dtype: float64\n"
     ]
    }
   ],
   "source": [
    "for i in nominal:\n",
    "    print(\"\\nVar: \", i)\n",
    "    print(data[i].value_counts(normalize=True)*100)"
   ]
  },
  {
   "cell_type": "markdown",
   "metadata": {},
   "source": [
    "# Axel\n",
    "Yo me encargaré del análisis univariado para las siguientes varaibles\n",
    "- gender\n",
    "- smoking status\n",
    "- age\n"
   ]
  },
  {
   "cell_type": "markdown",
   "metadata": {},
   "source": [
    "### Genero"
   ]
  },
  {
   "cell_type": "code",
   "execution_count": 82,
   "metadata": {},
   "outputs": [
    {
     "data": {
      "text/plain": [
       "gender\n",
       "Female    58.590998\n",
       "Male      41.389432\n",
       "Other      0.019569\n",
       "Name: proportion, dtype: float64"
      ]
     },
     "execution_count": 82,
     "metadata": {},
     "output_type": "execute_result"
    }
   ],
   "source": [
    "# Obtenemos el conteo de los valores en los datos para graficar\n",
    "pc_gender = data.gender.value_counts(normalize=True)*100\n",
    "pc_gender"
   ]
  },
  {
   "cell_type": "code",
   "execution_count": 83,
   "metadata": {},
   "outputs": [
    {
     "data": {
      "text/plain": [
       "(gender\n",
       " Female    2994\n",
       " Male      2115\n",
       " Other        1\n",
       " Name: count, dtype: int64,\n",
       " array([2994, 2115,    1]))"
      ]
     },
     "execution_count": 83,
     "metadata": {},
     "output_type": "execute_result"
    }
   ],
   "source": [
    "# Obtenemos la frecuencia de cada categoria\n",
    "freq_gender=data.gender.value_counts()\n",
    "freq_gender, freq_gender.values"
   ]
  },
  {
   "cell_type": "code",
   "execution_count": 84,
   "metadata": {},
   "outputs": [
    {
     "data": {
      "text/plain": [
       "([<matplotlib.patches.Wedge at 0x13330b390>,\n",
       "  <matplotlib.patches.Wedge at 0x1333d9bd0>,\n",
       "  <matplotlib.patches.Wedge at 0x1333db9d0>],\n",
       " [Text(-0.29329251556156405, 1.0601789944700706, 'Female'),\n",
       "  Text(0.2926407116602305, -1.0603590966644243, 'Male'),\n",
       "  Text(1.0999997921700193, -0.0006761848226571827, 'Other')],\n",
       " [Text(-0.15997773576085308, 0.5782794515291293, '58.59%'),\n",
       "  Text(0.1596222063601257, -0.5783776890896859, '41.39%'),\n",
       "  Text(0.5999998866381923, -0.000368828085085736, '0.02%')])"
      ]
     },
     "execution_count": 84,
     "metadata": {},
     "output_type": "execute_result"
    },
    {
     "data": {
      "text/plain": [
       "<BarContainer object of 3 artists>"
      ]
     },
     "execution_count": 84,
     "metadata": {},
     "output_type": "execute_result"
    },
    {
     "data": {
      "text/plain": [
       "<Axes: xlabel='gender', ylabel='count'>"
      ]
     },
     "execution_count": 84,
     "metadata": {},
     "output_type": "execute_result"
    },
    {
     "data": {
      "image/png": "[encoded data removed]",
      "text/plain": [
       "<Figure size 1500x600 with 3 Axes>"
      ]
     },
     "metadata": {},
     "output_type": "display_data"
    }
   ],
   "source": [
    "# Creamos las graficas graficas\n",
    "\n",
    "fig, ax = plt.subplots(1,3, figsize=(15,6))\n",
    "#Pie\n",
    "ax[0].pie(pc_gender, \n",
    "        labels=pc_gender.index, \n",
    "        autopct=\"%.2f%%\")\n",
    "ax[0].title.set_text('Porcentaje de genero en las observaciones')\n",
    "#Bar - Countplot\n",
    "ax[1].bar(freq_gender.index,\n",
    "        height=freq_gender.values) \n",
    "ax[1].title.set_text('Frecuencia por tipo de genero')\n",
    "sns.countplot(data=data, x =\"gender\",ax=ax[2])\n",
    "ax[1].tick_params(axis='x', rotation=45)\n",
    "ax[2].tick_params(axis='x', rotation=45)\n",
    "\n",
    "plt.show()"
   ]
  },
  {
   "cell_type": "code",
   "execution_count": 85,
   "metadata": {},
   "outputs": [
    {
     "data": {
      "text/plain": [
       "([<matplotlib.patches.Wedge at 0x132f97850>,\n",
       "  <matplotlib.patches.Wedge at 0x133475790>,\n",
       "  <matplotlib.patches.Wedge at 0x133477010>],\n",
       " [Text(-0.29329251556156405, 1.0601789944700706, 'Female'),\n",
       "  Text(0.2926407116602305, -1.0603590966644243, 'Male'),\n",
       "  Text(1.0999997921700193, -0.0006761848226571827, 'Other')],\n",
       " [Text(-0.19997216970106635, 0.7228493144114116, '58.59%'),\n",
       "  Text(0.19952775795015715, -0.7229721113621075, '41.39%'),\n",
       "  Text(0.7499998582977404, -0.00046103510635717, '0.02%')])"
      ]
     },
     "execution_count": 85,
     "metadata": {},
     "output_type": "execute_result"
    },
    {
     "data": {
      "text/plain": [
       "<matplotlib.patches.Circle at 0x132f9c4d0>"
      ]
     },
     "execution_count": 85,
     "metadata": {},
     "output_type": "execute_result"
    },
    {
     "data": {
      "text/plain": [
       "Text(0.5, 1.0, 'Porcentaje de genero en las observaciones')"
      ]
     },
     "execution_count": 85,
     "metadata": {},
     "output_type": "execute_result"
    },
    {
     "data": {
      "image/png": "[encoded data removed]",
      "text/plain": [
       "<Figure size 500x500 with 1 Axes>"
      ]
     },
     "metadata": {},
     "output_type": "display_data"
    }
   ],
   "source": [
    "# Gráfica de dona\n",
    "\n",
    "plt.pie(pc_gender, labels=pc_gender.index,\n",
    "        autopct='%1.2f%%', pctdistance=0.75,\n",
    "        )\n",
    "centre_circle = plt.Circle((0,0), 0.5, fc=\"white\")\n",
    "fig = plt.gcf()\n",
    "fig.set_figwidth(5)\n",
    "fig.set_figheight(5)\n",
    "fig.gca().add_artist(centre_circle)\n",
    "plt.title(\"Porcentaje de genero en las observaciones\")\n",
    "\n",
    "plt.show()"
   ]
  },
  {
   "cell_type": "markdown",
   "metadata": {},
   "source": [
    "#### Hallazgos de la variable genero\n",
    "- Observamos que la mayoria de datos esta en la categoria \"female\", seguida por \"male\" por un 9% aproximadamente.\n",
    "- La variable esta relativamente balanceada para los generos masculino y femenino, pero no para otros(\"other\")."
   ]
  },
  {
   "cell_type": "code",
   "execution_count": null,
   "metadata": {},
   "outputs": [],
   "source": []
  },
  {
   "cell_type": "markdown",
   "metadata": {},
   "source": [
    "# Samantha"
   ]
  },
  {
   "cell_type": "markdown",
   "metadata": {},
   "source": [
    "# Emiliano"
   ]
  },
  {
   "cell_type": "markdown",
   "metadata": {},
   "source": [
    "# Roberto"
   ]
  },
  {
   "cell_type": "markdown",
   "metadata": {},
   "source": []
  }
 ],
 "metadata": {
  "kernelspec": {
   "display_name": "Python 3",
   "language": "python",
   "name": "python3"
  },
  "language_info": {
   "codemirror_mode": {
    "name": "ipython",
    "version": 3
   },
   "file_extension": ".py",
   "mimetype": "text/x-python",
   "name": "python",
   "nbconvert_exporter": "python",
   "pygments_lexer": "ipython3",
   "version": "3.11.4"
  },
  "orig_nbformat": 4
 },
 "nbformat": 4,
 "nbformat_minor": 2
}
