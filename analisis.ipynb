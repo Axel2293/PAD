{
 "cells": [
  {
   "cell_type": "markdown",
   "metadata": {},
   "source": [
    "\n",
    "### Programación para Análisis de datos\n",
    "- Luis Roberto Chávez Mancilla\n",
    "- José Emiliano Figueroa Hernández\n",
    "- Samantha Abigail Quintero Valadez\n",
    "- Axel Escoto García\n",
    "## Stroke Prediction\n",
    "\n",
    "Este es un caso donde se analizaran distintos pacientes y sus caracteristicas clinicas. Es un conjunto de datos de análisis con una muestra de 5110 pacientes. El data set se obtuvo de: https://www.kaggle.com/datasets/fedesoriano/stroke-prediction-dataset\n",
    "\n",
    "__Sigificado de los campos__\n",
    "\n",
    "__gender__ : \"Male\", \"Female\" or \"Other\"/ nominal\n",
    "\n",
    "__age__: Edad del paciente / razón\n",
    "\n",
    "__hypertension__: 0 si el paciente no tiene hipertensión, 1 si el paciente tiene hipertensión/ nominal\n",
    "\n",
    "__heart_disease__: 0 si el paciente no tiene enfermedad en el corazón, 1 si el paciente tiene enfermedad en el corazón / nominal\n",
    "\n",
    "__work_type__: \"children\", \"Govt_jov\", \"Never_worked\", \"Private\" or \"Self-employed\"/ nominal\n",
    "\n",
    "__Residence_type__: \"Rural\" or \"Urban\"/ nominal\n",
    "\n",
    "__avg_glucose_level__: promedio de glucosa en la sangre / razón\n",
    "\n",
    "__bmi__: índice de masa corporal / razón\n",
    "\n",
    "__smoking_status__: \"formerly smoked\", \"never smoked\", \"smokes\" or \"Unknown\"* / nominal\n",
    "\n",
    "__stroke__: 1 si el paciente tuvo un derrame, 0 si no tuvo un derrame / nominal \n",
    "\n",
    "# Preguntas de investigación\n",
    "- ¿La edad puede ser un factor importante para este tipo de afección?\n",
    "- ¿Se puede relacionar el fumar con este tipo de afección?\n",
    "- ¿Cuales son los datos que más se ligan a la aparición de la enfermedad?\n",
    "- ¿Podríamos predecir si alguien sería propenso a este tipo de afección?\n",
    "- ¿Es más probable que una mujer padezca un derrame a que lo padezca un hombre?"
   ]
  },
  {
   "cell_type": "code",
   "execution_count": 1,
   "metadata": {},
   "outputs": [],
   "source": [
    "import pandas as pd\n",
    "import seaborn as sns\n",
    "from lifelines import ExponentialFitter\n",
    "import matplotlib.pyplot as plt\n"
   ]
  },
  {
   "cell_type": "code",
   "execution_count": 2,
   "metadata": {},
   "outputs": [],
   "source": [
    "#Para obtener múltiples salidas de una celda\n",
    "from IPython.core.interactiveshell import InteractiveShell\n",
    "InteractiveShell.ast_node_interactivity = \"all\""
   ]
  },
  {
   "cell_type": "code",
   "execution_count": 3,
   "metadata": {},
   "outputs": [],
   "source": [
    "# Leemos los datos mediate el encoding utf-8\n",
    "data = pd.read_csv(\"stroke.csv\", encoding=\"utf-8\")"
   ]
  },
  {
   "cell_type": "code",
   "execution_count": 4,
   "metadata": {},
   "outputs": [],
   "source": [
    "#Creamos un backup (copia profunda de los datos) de los datos\n",
    "data_backup= data.copy()"
   ]
  },
  {
   "cell_type": "code",
   "execution_count": 5,
   "metadata": {},
   "outputs": [
    {
     "data": {
      "text/plain": [
       "Index(['id', 'gender', 'age', 'hypertension', 'heart_disease', 'ever_married',\n",
       "       'work_type', 'Residence_type', 'avg_glucose_level', 'bmi',\n",
       "       'smoking_status', 'stroke'],\n",
       "      dtype='object')"
      ]
     },
     "execution_count": 5,
     "metadata": {},
     "output_type": "execute_result"
    }
   ],
   "source": [
    "# Columnas del data set\n",
    "columns=data.columns\n",
    "columns"
   ]
  },
  {
   "cell_type": "markdown",
   "metadata": {},
   "source": [
    "# Tipos de datos"
   ]
  },
  {
   "cell_type": "code",
   "execution_count": 6,
   "metadata": {},
   "outputs": [],
   "source": [
    "nominal=[\"gender\",\"hypertension\", \"heart_disease\",\"ever_married\",\"work_type\",\"Residence_type\", \"smoking_status\", \"stroke\"]\n",
    "ordinal=[]\n",
    "interval=[]\n",
    "ratio=[\"age\", \"avg_glucose_level\",\"bmi\"]"
   ]
  },
  {
   "cell_type": "markdown",
   "metadata": {},
   "source": [
    "# Conversion de nominal a categorico"
   ]
  },
  {
   "cell_type": "code",
   "execution_count": 7,
   "metadata": {},
   "outputs": [],
   "source": [
    "for i in nominal:\n",
    "    data[i] = data[i].astype(\"category\")"
   ]
  },
  {
   "cell_type": "code",
   "execution_count": 8,
   "metadata": {},
   "outputs": [
    {
     "name": "stdout",
     "output_type": "stream",
     "text": [
      "<class 'pandas.core.frame.DataFrame'>\n",
      "RangeIndex: 5110 entries, 0 to 5109\n",
      "Data columns (total 12 columns):\n",
      " #   Column             Non-Null Count  Dtype   \n",
      "---  ------             --------------  -----   \n",
      " 0   id                 5110 non-null   int64   \n",
      " 1   gender             5110 non-null   category\n",
      " 2   age                5110 non-null   float64 \n",
      " 3   hypertension       5110 non-null   category\n",
      " 4   heart_disease      5110 non-null   category\n",
      " 5   ever_married       5110 non-null   category\n",
      " 6   work_type          5110 non-null   category\n",
      " 7   Residence_type     5110 non-null   category\n",
      " 8   avg_glucose_level  5110 non-null   float64 \n",
      " 9   bmi                4909 non-null   float64 \n",
      " 10  smoking_status     5110 non-null   category\n",
      " 11  stroke             5110 non-null   category\n",
      "dtypes: category(8), float64(3), int64(1)\n",
      "memory usage: 200.9 KB\n"
     ]
    }
   ],
   "source": [
    "data.info()"
   ]
  },
  {
   "cell_type": "markdown",
   "metadata": {},
   "source": [
    "Ahora todos los datos nominales estan en tipo categorico de pandas."
   ]
  },
  {
   "cell_type": "markdown",
   "metadata": {},
   "source": [
    "# Datos unicos en los categoricos"
   ]
  },
  {
   "cell_type": "code",
   "execution_count": 9,
   "metadata": {},
   "outputs": [
    {
     "name": "stdout",
     "output_type": "stream",
     "text": [
      "\n",
      "Var:  gender\n",
      "['Male', 'Female', 'Other']\n",
      "Categories (3, object): ['Female', 'Male', 'Other']\n",
      "\n",
      "Var:  hypertension\n",
      "[0, 1]\n",
      "Categories (2, int64): [0, 1]\n",
      "\n",
      "Var:  heart_disease\n",
      "[1, 0]\n",
      "Categories (2, int64): [0, 1]\n",
      "\n",
      "Var:  ever_married\n",
      "['Yes', 'No']\n",
      "Categories (2, object): ['No', 'Yes']\n",
      "\n",
      "Var:  work_type\n",
      "['Private', 'Self-employed', 'Govt_job', 'children', 'Never_worked']\n",
      "Categories (5, object): ['Govt_job', 'Never_worked', 'Private', 'Self-employed', 'children']\n",
      "\n",
      "Var:  Residence_type\n",
      "['Urban', 'Rural']\n",
      "Categories (2, object): ['Rural', 'Urban']\n",
      "\n",
      "Var:  smoking_status\n",
      "['formerly smoked', 'never smoked', 'smokes', 'Unknown']\n",
      "Categories (4, object): ['Unknown', 'formerly smoked', 'never smoked', 'smokes']\n",
      "\n",
      "Var:  stroke\n",
      "[1, 0]\n",
      "Categories (2, int64): [0, 1]\n"
     ]
    }
   ],
   "source": [
    "for i in nominal:\n",
    "    print(\"\\nVar: \",i)\n",
    "    print(data[i].unique())"
   ]
  },
  {
   "cell_type": "markdown",
   "metadata": {},
   "source": [
    "### Hallazgos\n",
    "Tenemos 4 variables dicotómicas: hypertension, heart_disease, Residence_type, y stroke. El resto varian entre 3 a 5 posibles valores lo cual los hace tener una mayor cardinalida sobre el resto, sindo la más alta el tipo de trabajo de la persona observada o work_type.\n",
    "\n",
    "Todas las variables categoricas son de baja cardinalidad."
   ]
  },
  {
   "cell_type": "markdown",
   "metadata": {},
   "source": [
    "## Exploración de cantidad de muestras por categoría\n"
   ]
  },
  {
   "cell_type": "code",
   "execution_count": 10,
   "metadata": {},
   "outputs": [
    {
     "data": {
      "text/plain": [
       "gender\n",
       "Female    2994\n",
       "Male      2115\n",
       "Other        1\n",
       "Name: count, dtype: int64"
      ]
     },
     "execution_count": 10,
     "metadata": {},
     "output_type": "execute_result"
    },
    {
     "name": "stdout",
     "output_type": "stream",
     "text": [
      "\n"
     ]
    },
    {
     "data": {
      "text/plain": [
       "hypertension\n",
       "0    4612\n",
       "1     498\n",
       "Name: count, dtype: int64"
      ]
     },
     "execution_count": 10,
     "metadata": {},
     "output_type": "execute_result"
    },
    {
     "name": "stdout",
     "output_type": "stream",
     "text": [
      "\n"
     ]
    },
    {
     "data": {
      "text/plain": [
       "heart_disease\n",
       "0    4834\n",
       "1     276\n",
       "Name: count, dtype: int64"
      ]
     },
     "execution_count": 10,
     "metadata": {},
     "output_type": "execute_result"
    },
    {
     "name": "stdout",
     "output_type": "stream",
     "text": [
      "\n"
     ]
    },
    {
     "data": {
      "text/plain": [
       "ever_married\n",
       "Yes    3353\n",
       "No     1757\n",
       "Name: count, dtype: int64"
      ]
     },
     "execution_count": 10,
     "metadata": {},
     "output_type": "execute_result"
    },
    {
     "name": "stdout",
     "output_type": "stream",
     "text": [
      "\n"
     ]
    },
    {
     "data": {
      "text/plain": [
       "work_type\n",
       "Private          2925\n",
       "Self-employed     819\n",
       "children          687\n",
       "Govt_job          657\n",
       "Never_worked       22\n",
       "Name: count, dtype: int64"
      ]
     },
     "execution_count": 10,
     "metadata": {},
     "output_type": "execute_result"
    },
    {
     "name": "stdout",
     "output_type": "stream",
     "text": [
      "\n"
     ]
    },
    {
     "data": {
      "text/plain": [
       "Residence_type\n",
       "Urban    2596\n",
       "Rural    2514\n",
       "Name: count, dtype: int64"
      ]
     },
     "execution_count": 10,
     "metadata": {},
     "output_type": "execute_result"
    },
    {
     "name": "stdout",
     "output_type": "stream",
     "text": [
      "\n"
     ]
    },
    {
     "data": {
      "text/plain": [
       "smoking_status\n",
       "never smoked       1892\n",
       "Unknown            1544\n",
       "formerly smoked     885\n",
       "smokes              789\n",
       "Name: count, dtype: int64"
      ]
     },
     "execution_count": 10,
     "metadata": {},
     "output_type": "execute_result"
    },
    {
     "name": "stdout",
     "output_type": "stream",
     "text": [
      "\n"
     ]
    },
    {
     "data": {
      "text/plain": [
       "stroke\n",
       "0    4861\n",
       "1     249\n",
       "Name: count, dtype: int64"
      ]
     },
     "execution_count": 10,
     "metadata": {},
     "output_type": "execute_result"
    },
    {
     "name": "stdout",
     "output_type": "stream",
     "text": [
      "\n"
     ]
    }
   ],
   "source": [
    "#Sam :)\n",
    "for i in nominal + ordinal:\n",
    "    data[i].value_counts()\n",
    "    print()"
   ]
  },
  {
   "cell_type": "markdown",
   "metadata": {},
   "source": [
    "### Hallazgos\n",
    "*Samantha*\n",
    "+ Para la variable de heart_disease podemos ver que hay un desvalance entre los datos ya que la mayoria de los pacientes de la muestra no presentan enfermedades en el corazón, solo 276 de la población total presentó este tipo de problema\n",
    "\n",
    "*Axel*\n",
    "+ Para el genero solo tenemos una fila con valor \"other\" y el resto estan relativamente equilibradas, teniendo solo un 9% de diferencia entre hombre y mujer (mayor).\n",
    "+ En el dato de \"stroke\" tenemos que solamente un 5% presentó este problema y el 95% restante no ha sufrido de este.\n",
    "+ La variable de \"smoking_status\" presenta un problema al tener 1544 datos desconocidos, osea que no se sabe si el paciente fue, es o no es fumador."
   ]
  },
  {
   "cell_type": "markdown",
   "metadata": {},
   "source": [
    "# Estadisticas descriptiva de las columnas\n"
   ]
  },
  {
   "cell_type": "code",
   "execution_count": 11,
   "metadata": {},
   "outputs": [
    {
     "name": "stdout",
     "output_type": "stream",
     "text": [
      "gender\n"
     ]
    },
    {
     "data": {
      "text/plain": [
       "count       5110\n",
       "unique         3\n",
       "top       Female\n",
       "freq        2994\n",
       "Name: gender, dtype: object"
      ]
     },
     "execution_count": 11,
     "metadata": {},
     "output_type": "execute_result"
    },
    {
     "name": "stdout",
     "output_type": "stream",
     "text": [
      "\n",
      "hypertension\n"
     ]
    },
    {
     "data": {
      "text/plain": [
       "count     5110\n",
       "unique       2\n",
       "top          0\n",
       "freq      4612\n",
       "Name: hypertension, dtype: int64"
      ]
     },
     "execution_count": 11,
     "metadata": {},
     "output_type": "execute_result"
    },
    {
     "name": "stdout",
     "output_type": "stream",
     "text": [
      "\n",
      "heart_disease\n"
     ]
    },
    {
     "data": {
      "text/plain": [
       "count     5110\n",
       "unique       2\n",
       "top          0\n",
       "freq      4834\n",
       "Name: heart_disease, dtype: int64"
      ]
     },
     "execution_count": 11,
     "metadata": {},
     "output_type": "execute_result"
    },
    {
     "name": "stdout",
     "output_type": "stream",
     "text": [
      "\n",
      "ever_married\n"
     ]
    },
    {
     "data": {
      "text/plain": [
       "count     5110\n",
       "unique       2\n",
       "top        Yes\n",
       "freq      3353\n",
       "Name: ever_married, dtype: object"
      ]
     },
     "execution_count": 11,
     "metadata": {},
     "output_type": "execute_result"
    },
    {
     "name": "stdout",
     "output_type": "stream",
     "text": [
      "\n",
      "work_type\n"
     ]
    },
    {
     "data": {
      "text/plain": [
       "count        5110\n",
       "unique          5\n",
       "top       Private\n",
       "freq         2925\n",
       "Name: work_type, dtype: object"
      ]
     },
     "execution_count": 11,
     "metadata": {},
     "output_type": "execute_result"
    },
    {
     "name": "stdout",
     "output_type": "stream",
     "text": [
      "\n",
      "Residence_type\n"
     ]
    },
    {
     "data": {
      "text/plain": [
       "count      5110\n",
       "unique        2\n",
       "top       Urban\n",
       "freq       2596\n",
       "Name: Residence_type, dtype: object"
      ]
     },
     "execution_count": 11,
     "metadata": {},
     "output_type": "execute_result"
    },
    {
     "name": "stdout",
     "output_type": "stream",
     "text": [
      "\n",
      "smoking_status\n"
     ]
    },
    {
     "data": {
      "text/plain": [
       "count             5110\n",
       "unique               4\n",
       "top       never smoked\n",
       "freq              1892\n",
       "Name: smoking_status, dtype: object"
      ]
     },
     "execution_count": 11,
     "metadata": {},
     "output_type": "execute_result"
    },
    {
     "name": "stdout",
     "output_type": "stream",
     "text": [
      "\n",
      "stroke\n"
     ]
    },
    {
     "data": {
      "text/plain": [
       "count     5110\n",
       "unique       2\n",
       "top          0\n",
       "freq      4861\n",
       "Name: stroke, dtype: int64"
      ]
     },
     "execution_count": 11,
     "metadata": {},
     "output_type": "execute_result"
    },
    {
     "name": "stdout",
     "output_type": "stream",
     "text": [
      "\n",
      "age\n"
     ]
    },
    {
     "data": {
      "text/plain": [
       "count    5110.000000\n",
       "mean       43.226614\n",
       "std        22.612647\n",
       "min         0.080000\n",
       "25%        25.000000\n",
       "50%        45.000000\n",
       "75%        61.000000\n",
       "max        82.000000\n",
       "Name: age, dtype: float64"
      ]
     },
     "execution_count": 11,
     "metadata": {},
     "output_type": "execute_result"
    },
    {
     "name": "stdout",
     "output_type": "stream",
     "text": [
      "\n",
      "avg_glucose_level\n"
     ]
    },
    {
     "data": {
      "text/plain": [
       "count    5110.000000\n",
       "mean      106.147677\n",
       "std        45.283560\n",
       "min        55.120000\n",
       "25%        77.245000\n",
       "50%        91.885000\n",
       "75%       114.090000\n",
       "max       271.740000\n",
       "Name: avg_glucose_level, dtype: float64"
      ]
     },
     "execution_count": 11,
     "metadata": {},
     "output_type": "execute_result"
    },
    {
     "name": "stdout",
     "output_type": "stream",
     "text": [
      "\n",
      "bmi\n"
     ]
    },
    {
     "data": {
      "text/plain": [
       "count    4909.000000\n",
       "mean       28.893237\n",
       "std         7.854067\n",
       "min        10.300000\n",
       "25%        23.500000\n",
       "50%        28.100000\n",
       "75%        33.100000\n",
       "max        97.600000\n",
       "Name: bmi, dtype: float64"
      ]
     },
     "execution_count": 11,
     "metadata": {},
     "output_type": "execute_result"
    },
    {
     "name": "stdout",
     "output_type": "stream",
     "text": [
      "\n"
     ]
    }
   ],
   "source": [
    "#Sam :)\n",
    "for i in nominal + ratio:\n",
    "    print(i)\n",
    "    data[i].describe()\n",
    "    print()"
   ]
  },
  {
   "cell_type": "markdown",
   "metadata": {},
   "source": [
    "### Hallazgos\n",
    "_Sam_\n",
    "+ Para la variable de heart_disease que es nominal, vemos que la moda es 0 (No padecen de enfermedades del corazón), con una frecuencia de 4834 de los 5110\n",
    "+ Para la variable de avg_glucose_level que es de razón pudimos obtener más datos, como lo es la media con un nivel de glucosa de 106.147677 y una desviación estandar de  45.283560\n",
    "\n",
    "*Axel*\n",
    "- Dentro de la edad podemos observar que tenemos un valor mínimo de 0.8, lo cual puede significar un recien nacido y tambien tenemos un máximo de 82 años, lo cual puede significar que tenemos una variedad de datos, inclusive de pacientes muy jovenes."
   ]
  },
  {
   "cell_type": "markdown",
   "metadata": {},
   "source": [
    "### Dummies\n",
    "Creacion de las variables dummies para todas las categoricas-nominales.\n"
   ]
  },
  {
   "cell_type": "code",
   "execution_count": 12,
   "metadata": {},
   "outputs": [
    {
     "data": {
      "text/html": [
       "<div>\n",
       "<style scoped>\n",
       "    .dataframe tbody tr th:only-of-type {\n",
       "        vertical-align: middle;\n",
       "    }\n",
       "\n",
       "    .dataframe tbody tr th {\n",
       "        vertical-align: top;\n",
       "    }\n",
       "\n",
       "    .dataframe thead th {\n",
       "        text-align: right;\n",
       "    }\n",
       "</style>\n",
       "<table border=\"1\" class=\"dataframe\">\n",
       "  <thead>\n",
       "    <tr style=\"text-align: right;\">\n",
       "      <th></th>\n",
       "      <th>id</th>\n",
       "      <th>age</th>\n",
       "      <th>avg_glucose_level</th>\n",
       "      <th>bmi</th>\n",
       "      <th>gender_Female</th>\n",
       "      <th>gender_Male</th>\n",
       "      <th>gender_Other</th>\n",
       "      <th>hypertension_0</th>\n",
       "      <th>hypertension_1</th>\n",
       "      <th>heart_disease_0</th>\n",
       "      <th>...</th>\n",
       "      <th>work_type_Self-employed</th>\n",
       "      <th>work_type_children</th>\n",
       "      <th>Residence_type_Rural</th>\n",
       "      <th>Residence_type_Urban</th>\n",
       "      <th>smoking_status_Unknown</th>\n",
       "      <th>smoking_status_formerly smoked</th>\n",
       "      <th>smoking_status_never smoked</th>\n",
       "      <th>smoking_status_smokes</th>\n",
       "      <th>stroke_0</th>\n",
       "      <th>stroke_1</th>\n",
       "    </tr>\n",
       "  </thead>\n",
       "  <tbody>\n",
       "    <tr>\n",
       "      <th>0</th>\n",
       "      <td>9046</td>\n",
       "      <td>67.0</td>\n",
       "      <td>228.69</td>\n",
       "      <td>36.6</td>\n",
       "      <td>0</td>\n",
       "      <td>1</td>\n",
       "      <td>0</td>\n",
       "      <td>1</td>\n",
       "      <td>0</td>\n",
       "      <td>0</td>\n",
       "      <td>...</td>\n",
       "      <td>0</td>\n",
       "      <td>0</td>\n",
       "      <td>0</td>\n",
       "      <td>1</td>\n",
       "      <td>0</td>\n",
       "      <td>1</td>\n",
       "      <td>0</td>\n",
       "      <td>0</td>\n",
       "      <td>0</td>\n",
       "      <td>1</td>\n",
       "    </tr>\n",
       "    <tr>\n",
       "      <th>1</th>\n",
       "      <td>51676</td>\n",
       "      <td>61.0</td>\n",
       "      <td>202.21</td>\n",
       "      <td>NaN</td>\n",
       "      <td>1</td>\n",
       "      <td>0</td>\n",
       "      <td>0</td>\n",
       "      <td>1</td>\n",
       "      <td>0</td>\n",
       "      <td>1</td>\n",
       "      <td>...</td>\n",
       "      <td>1</td>\n",
       "      <td>0</td>\n",
       "      <td>1</td>\n",
       "      <td>0</td>\n",
       "      <td>0</td>\n",
       "      <td>0</td>\n",
       "      <td>1</td>\n",
       "      <td>0</td>\n",
       "      <td>0</td>\n",
       "      <td>1</td>\n",
       "    </tr>\n",
       "    <tr>\n",
       "      <th>2</th>\n",
       "      <td>31112</td>\n",
       "      <td>80.0</td>\n",
       "      <td>105.92</td>\n",
       "      <td>32.5</td>\n",
       "      <td>0</td>\n",
       "      <td>1</td>\n",
       "      <td>0</td>\n",
       "      <td>1</td>\n",
       "      <td>0</td>\n",
       "      <td>0</td>\n",
       "      <td>...</td>\n",
       "      <td>0</td>\n",
       "      <td>0</td>\n",
       "      <td>1</td>\n",
       "      <td>0</td>\n",
       "      <td>0</td>\n",
       "      <td>0</td>\n",
       "      <td>1</td>\n",
       "      <td>0</td>\n",
       "      <td>0</td>\n",
       "      <td>1</td>\n",
       "    </tr>\n",
       "    <tr>\n",
       "      <th>3</th>\n",
       "      <td>60182</td>\n",
       "      <td>49.0</td>\n",
       "      <td>171.23</td>\n",
       "      <td>34.4</td>\n",
       "      <td>1</td>\n",
       "      <td>0</td>\n",
       "      <td>0</td>\n",
       "      <td>1</td>\n",
       "      <td>0</td>\n",
       "      <td>1</td>\n",
       "      <td>...</td>\n",
       "      <td>0</td>\n",
       "      <td>0</td>\n",
       "      <td>0</td>\n",
       "      <td>1</td>\n",
       "      <td>0</td>\n",
       "      <td>0</td>\n",
       "      <td>0</td>\n",
       "      <td>1</td>\n",
       "      <td>0</td>\n",
       "      <td>1</td>\n",
       "    </tr>\n",
       "    <tr>\n",
       "      <th>4</th>\n",
       "      <td>1665</td>\n",
       "      <td>79.0</td>\n",
       "      <td>174.12</td>\n",
       "      <td>24.0</td>\n",
       "      <td>1</td>\n",
       "      <td>0</td>\n",
       "      <td>0</td>\n",
       "      <td>0</td>\n",
       "      <td>1</td>\n",
       "      <td>1</td>\n",
       "      <td>...</td>\n",
       "      <td>1</td>\n",
       "      <td>0</td>\n",
       "      <td>1</td>\n",
       "      <td>0</td>\n",
       "      <td>0</td>\n",
       "      <td>0</td>\n",
       "      <td>1</td>\n",
       "      <td>0</td>\n",
       "      <td>0</td>\n",
       "      <td>1</td>\n",
       "    </tr>\n",
       "    <tr>\n",
       "      <th>...</th>\n",
       "      <td>...</td>\n",
       "      <td>...</td>\n",
       "      <td>...</td>\n",
       "      <td>...</td>\n",
       "      <td>...</td>\n",
       "      <td>...</td>\n",
       "      <td>...</td>\n",
       "      <td>...</td>\n",
       "      <td>...</td>\n",
       "      <td>...</td>\n",
       "      <td>...</td>\n",
       "      <td>...</td>\n",
       "      <td>...</td>\n",
       "      <td>...</td>\n",
       "      <td>...</td>\n",
       "      <td>...</td>\n",
       "      <td>...</td>\n",
       "      <td>...</td>\n",
       "      <td>...</td>\n",
       "      <td>...</td>\n",
       "      <td>...</td>\n",
       "    </tr>\n",
       "    <tr>\n",
       "      <th>5105</th>\n",
       "      <td>18234</td>\n",
       "      <td>80.0</td>\n",
       "      <td>83.75</td>\n",
       "      <td>NaN</td>\n",
       "      <td>1</td>\n",
       "      <td>0</td>\n",
       "      <td>0</td>\n",
       "      <td>0</td>\n",
       "      <td>1</td>\n",
       "      <td>1</td>\n",
       "      <td>...</td>\n",
       "      <td>0</td>\n",
       "      <td>0</td>\n",
       "      <td>0</td>\n",
       "      <td>1</td>\n",
       "      <td>0</td>\n",
       "      <td>0</td>\n",
       "      <td>1</td>\n",
       "      <td>0</td>\n",
       "      <td>1</td>\n",
       "      <td>0</td>\n",
       "    </tr>\n",
       "    <tr>\n",
       "      <th>5106</th>\n",
       "      <td>44873</td>\n",
       "      <td>81.0</td>\n",
       "      <td>125.20</td>\n",
       "      <td>40.0</td>\n",
       "      <td>1</td>\n",
       "      <td>0</td>\n",
       "      <td>0</td>\n",
       "      <td>1</td>\n",
       "      <td>0</td>\n",
       "      <td>1</td>\n",
       "      <td>...</td>\n",
       "      <td>1</td>\n",
       "      <td>0</td>\n",
       "      <td>0</td>\n",
       "      <td>1</td>\n",
       "      <td>0</td>\n",
       "      <td>0</td>\n",
       "      <td>1</td>\n",
       "      <td>0</td>\n",
       "      <td>1</td>\n",
       "      <td>0</td>\n",
       "    </tr>\n",
       "    <tr>\n",
       "      <th>5107</th>\n",
       "      <td>19723</td>\n",
       "      <td>35.0</td>\n",
       "      <td>82.99</td>\n",
       "      <td>30.6</td>\n",
       "      <td>1</td>\n",
       "      <td>0</td>\n",
       "      <td>0</td>\n",
       "      <td>1</td>\n",
       "      <td>0</td>\n",
       "      <td>1</td>\n",
       "      <td>...</td>\n",
       "      <td>1</td>\n",
       "      <td>0</td>\n",
       "      <td>1</td>\n",
       "      <td>0</td>\n",
       "      <td>0</td>\n",
       "      <td>0</td>\n",
       "      <td>1</td>\n",
       "      <td>0</td>\n",
       "      <td>1</td>\n",
       "      <td>0</td>\n",
       "    </tr>\n",
       "    <tr>\n",
       "      <th>5108</th>\n",
       "      <td>37544</td>\n",
       "      <td>51.0</td>\n",
       "      <td>166.29</td>\n",
       "      <td>25.6</td>\n",
       "      <td>0</td>\n",
       "      <td>1</td>\n",
       "      <td>0</td>\n",
       "      <td>1</td>\n",
       "      <td>0</td>\n",
       "      <td>1</td>\n",
       "      <td>...</td>\n",
       "      <td>0</td>\n",
       "      <td>0</td>\n",
       "      <td>1</td>\n",
       "      <td>0</td>\n",
       "      <td>0</td>\n",
       "      <td>1</td>\n",
       "      <td>0</td>\n",
       "      <td>0</td>\n",
       "      <td>1</td>\n",
       "      <td>0</td>\n",
       "    </tr>\n",
       "    <tr>\n",
       "      <th>5109</th>\n",
       "      <td>44679</td>\n",
       "      <td>44.0</td>\n",
       "      <td>85.28</td>\n",
       "      <td>26.2</td>\n",
       "      <td>1</td>\n",
       "      <td>0</td>\n",
       "      <td>0</td>\n",
       "      <td>1</td>\n",
       "      <td>0</td>\n",
       "      <td>1</td>\n",
       "      <td>...</td>\n",
       "      <td>0</td>\n",
       "      <td>0</td>\n",
       "      <td>0</td>\n",
       "      <td>1</td>\n",
       "      <td>1</td>\n",
       "      <td>0</td>\n",
       "      <td>0</td>\n",
       "      <td>0</td>\n",
       "      <td>1</td>\n",
       "      <td>0</td>\n",
       "    </tr>\n",
       "  </tbody>\n",
       "</table>\n",
       "<p>5110 rows × 26 columns</p>\n",
       "</div>"
      ],
      "text/plain": [
       "         id   age  avg_glucose_level   bmi  gender_Female  gender_Male  \\\n",
       "0      9046  67.0             228.69  36.6              0            1   \n",
       "1     51676  61.0             202.21   NaN              1            0   \n",
       "2     31112  80.0             105.92  32.5              0            1   \n",
       "3     60182  49.0             171.23  34.4              1            0   \n",
       "4      1665  79.0             174.12  24.0              1            0   \n",
       "...     ...   ...                ...   ...            ...          ...   \n",
       "5105  18234  80.0              83.75   NaN              1            0   \n",
       "5106  44873  81.0             125.20  40.0              1            0   \n",
       "5107  19723  35.0              82.99  30.6              1            0   \n",
       "5108  37544  51.0             166.29  25.6              0            1   \n",
       "5109  44679  44.0              85.28  26.2              1            0   \n",
       "\n",
       "      gender_Other  hypertension_0  hypertension_1  heart_disease_0  ...  \\\n",
       "0                0               1               0                0  ...   \n",
       "1                0               1               0                1  ...   \n",
       "2                0               1               0                0  ...   \n",
       "3                0               1               0                1  ...   \n",
       "4                0               0               1                1  ...   \n",
       "...            ...             ...             ...              ...  ...   \n",
       "5105             0               0               1                1  ...   \n",
       "5106             0               1               0                1  ...   \n",
       "5107             0               1               0                1  ...   \n",
       "5108             0               1               0                1  ...   \n",
       "5109             0               1               0                1  ...   \n",
       "\n",
       "      work_type_Self-employed  work_type_children  Residence_type_Rural  \\\n",
       "0                           0                   0                     0   \n",
       "1                           1                   0                     1   \n",
       "2                           0                   0                     1   \n",
       "3                           0                   0                     0   \n",
       "4                           1                   0                     1   \n",
       "...                       ...                 ...                   ...   \n",
       "5105                        0                   0                     0   \n",
       "5106                        1                   0                     0   \n",
       "5107                        1                   0                     1   \n",
       "5108                        0                   0                     1   \n",
       "5109                        0                   0                     0   \n",
       "\n",
       "      Residence_type_Urban  smoking_status_Unknown  \\\n",
       "0                        1                       0   \n",
       "1                        0                       0   \n",
       "2                        0                       0   \n",
       "3                        1                       0   \n",
       "4                        0                       0   \n",
       "...                    ...                     ...   \n",
       "5105                     1                       0   \n",
       "5106                     1                       0   \n",
       "5107                     0                       0   \n",
       "5108                     0                       0   \n",
       "5109                     1                       1   \n",
       "\n",
       "      smoking_status_formerly smoked  smoking_status_never smoked  \\\n",
       "0                                  1                            0   \n",
       "1                                  0                            1   \n",
       "2                                  0                            1   \n",
       "3                                  0                            0   \n",
       "4                                  0                            1   \n",
       "...                              ...                          ...   \n",
       "5105                               0                            1   \n",
       "5106                               0                            1   \n",
       "5107                               0                            1   \n",
       "5108                               1                            0   \n",
       "5109                               0                            0   \n",
       "\n",
       "      smoking_status_smokes  stroke_0  stroke_1  \n",
       "0                         0         0         1  \n",
       "1                         0         0         1  \n",
       "2                         0         0         1  \n",
       "3                         1         0         1  \n",
       "4                         0         0         1  \n",
       "...                     ...       ...       ...  \n",
       "5105                      0         1         0  \n",
       "5106                      0         1         0  \n",
       "5107                      0         1         0  \n",
       "5108                      0         1         0  \n",
       "5109                      0         1         0  \n",
       "\n",
       "[5110 rows x 26 columns]"
      ]
     },
     "execution_count": 12,
     "metadata": {},
     "output_type": "execute_result"
    }
   ],
   "source": [
    "# Crear dummies que contengan valores numericos dicotómicos (0 y 1) con k columnas\n",
    "data_dumms_todas = pd.get_dummies(data, dtype=int)\n",
    "data_dumms_todas"
   ]
  },
  {
   "cell_type": "markdown",
   "metadata": {},
   "source": [
    "# Porcentajes de datos por categorico"
   ]
  },
  {
   "cell_type": "code",
   "execution_count": 13,
   "metadata": {},
   "outputs": [
    {
     "name": "stdout",
     "output_type": "stream",
     "text": [
      "\n",
      "Var:  gender\n",
      "gender\n",
      "Female    58.590998\n",
      "Male      41.389432\n",
      "Other      0.019569\n",
      "Name: proportion, dtype: float64\n",
      "\n",
      "Var:  hypertension\n",
      "hypertension\n",
      "0    90.254403\n",
      "1     9.745597\n",
      "Name: proportion, dtype: float64\n",
      "\n",
      "Var:  heart_disease\n",
      "heart_disease\n",
      "0    94.598826\n",
      "1     5.401174\n",
      "Name: proportion, dtype: float64\n",
      "\n",
      "Var:  ever_married\n",
      "ever_married\n",
      "Yes    65.616438\n",
      "No     34.383562\n",
      "Name: proportion, dtype: float64\n",
      "\n",
      "Var:  work_type\n",
      "work_type\n",
      "Private          57.240705\n",
      "Self-employed    16.027397\n",
      "children         13.444227\n",
      "Govt_job         12.857143\n",
      "Never_worked      0.430528\n",
      "Name: proportion, dtype: float64\n",
      "\n",
      "Var:  Residence_type\n",
      "Residence_type\n",
      "Urban    50.802348\n",
      "Rural    49.197652\n",
      "Name: proportion, dtype: float64\n",
      "\n",
      "Var:  smoking_status\n",
      "smoking_status\n",
      "never smoked       37.025440\n",
      "Unknown            30.215264\n",
      "formerly smoked    17.318982\n",
      "smokes             15.440313\n",
      "Name: proportion, dtype: float64\n",
      "\n",
      "Var:  stroke\n",
      "stroke\n",
      "0    95.127202\n",
      "1     4.872798\n",
      "Name: proportion, dtype: float64\n"
     ]
    }
   ],
   "source": [
    "for i in nominal:\n",
    "    print(\"\\nVar: \", i)\n",
    "    print(data[i].value_counts(normalize=True)*100)"
   ]
  },
  {
   "cell_type": "markdown",
   "metadata": {},
   "source": [
    "# Axel\n",
    "Yo me encargaré del análisis univariado para las siguientes varaibles\n",
    "- gender\n",
    "- smoking status\n",
    "- age\n"
   ]
  },
  {
   "cell_type": "markdown",
   "metadata": {},
   "source": [
    "### Genero"
   ]
  },
  {
   "cell_type": "code",
   "execution_count": 14,
   "metadata": {},
   "outputs": [
    {
     "data": {
      "text/plain": [
       "gender\n",
       "Female    58.590998\n",
       "Male      41.389432\n",
       "Other      0.019569\n",
       "Name: proportion, dtype: float64"
      ]
     },
     "execution_count": 14,
     "metadata": {},
     "output_type": "execute_result"
    }
   ],
   "source": [
    "# Obtenemos el conteo de los valores en los datos para graficar\n",
    "pc_gender = data.gender.value_counts(normalize=True)*100\n",
    "pc_gender"
   ]
  },
  {
   "cell_type": "code",
   "execution_count": 15,
   "metadata": {},
   "outputs": [
    {
     "data": {
      "text/plain": [
       "(gender\n",
       " Female    2994\n",
       " Male      2115\n",
       " Other        1\n",
       " Name: count, dtype: int64,\n",
       " array([2994, 2115,    1]))"
      ]
     },
     "execution_count": 15,
     "metadata": {},
     "output_type": "execute_result"
    }
   ],
   "source": [
    "# Obtenemos la frecuencia de cada categoria\n",
    "freq_gender=data.gender.value_counts()\n",
    "freq_gender, freq_gender.values"
   ]
  },
  {
   "cell_type": "code",
   "execution_count": 16,
   "metadata": {},
   "outputs": [
    {
     "data": {
      "text/plain": [
       "([<matplotlib.patches.Wedge at 0x1542a7550>,\n",
       "  <matplotlib.patches.Wedge at 0x15431cdd0>,\n",
       "  <matplotlib.patches.Wedge at 0x15431eb90>],\n",
       " [Text(-0.29329251556156405, 1.0601789944700706, 'Female'),\n",
       "  Text(0.2926407116602305, -1.0603590966644243, 'Male'),\n",
       "  Text(1.0999997921700193, -0.0006761848226571827, 'Other')],\n",
       " [Text(-0.15997773576085308, 0.5782794515291293, '58.59%'),\n",
       "  Text(0.1596222063601257, -0.5783776890896859, '41.39%'),\n",
       "  Text(0.5999998866381923, -0.000368828085085736, '0.02%')])"
      ]
     },
     "execution_count": 16,
     "metadata": {},
     "output_type": "execute_result"
    },
    {
     "data": {
      "text/plain": [
       "<BarContainer object of 3 artists>"
      ]
     },
     "execution_count": 16,
     "metadata": {},
     "output_type": "execute_result"
    },
    {
     "data": {
      "text/plain": [
       "<Axes: xlabel='gender', ylabel='count'>"
      ]
     },
     "execution_count": 16,
     "metadata": {},
     "output_type": "execute_result"
    },
    {
     "data": {
      "image/png": "[encoded data removed]",
      "text/plain": [
       "<Figure size 1500x600 with 3 Axes>"
      ]
     },
     "metadata": {},
     "output_type": "display_data"
    }
   ],
   "source": [
    "# Creamos las graficas graficas\n",
    "\n",
    "fig, ax = plt.subplots(1,3, figsize=(15,6))\n",
    "#Pie\n",
    "ax[0].pie(pc_gender, \n",
    "        labels=pc_gender.index, \n",
    "        autopct=\"%.2f%%\")\n",
    "ax[0].title.set_text('Porcentaje de genero en las observaciones')\n",
    "#Bar - Countplot\n",
    "ax[1].bar(freq_gender.index,\n",
    "        height=freq_gender.values) \n",
    "ax[1].title.set_text('Frecuencia por tipo de genero')\n",
    "sns.countplot(data=data, x =\"gender\",ax=ax[2])\n",
    "ax[1].tick_params(axis='x', rotation=45)\n",
    "ax[2].tick_params(axis='x', rotation=45)\n",
    "\n",
    "plt.show()"
   ]
  },
  {
   "cell_type": "code",
   "execution_count": 17,
   "metadata": {},
   "outputs": [
    {
     "data": {
      "text/plain": [
       "([<matplotlib.patches.Wedge at 0x15420e390>,\n",
       "  <matplotlib.patches.Wedge at 0x1543e2510>,\n",
       "  <matplotlib.patches.Wedge at 0x147d1c610>],\n",
       " [Text(-0.29329251556156405, 1.0601789944700706, 'Female'),\n",
       "  Text(0.2926407116602305, -1.0603590966644243, 'Male'),\n",
       "  Text(1.0999997921700193, -0.0006761848226571827, 'Other')],\n",
       " [Text(-0.19997216970106635, 0.7228493144114116, '58.59%'),\n",
       "  Text(0.19952775795015715, -0.7229721113621075, '41.39%'),\n",
       "  Text(0.7499998582977404, -0.00046103510635717, '0.02%')])"
      ]
     },
     "execution_count": 17,
     "metadata": {},
     "output_type": "execute_result"
    },
    {
     "data": {
      "text/plain": [
       "<matplotlib.patches.Circle at 0x15436f510>"
      ]
     },
     "execution_count": 17,
     "metadata": {},
     "output_type": "execute_result"
    },
    {
     "data": {
      "text/plain": [
       "Text(0.5, 1.0, 'Porcentaje de genero en las observaciones')"
      ]
     },
     "execution_count": 17,
     "metadata": {},
     "output_type": "execute_result"
    },
    {
     "data": {
      "image/png": "[encoded data removed]",
      "text/plain": [
       "<Figure size 500x500 with 1 Axes>"
      ]
     },
     "metadata": {},
     "output_type": "display_data"
    }
   ],
   "source": [
    "# Gráfica de dona\n",
    "\n",
    "plt.pie(pc_gender, labels=pc_gender.index,\n",
    "        autopct='%1.2f%%', pctdistance=0.75,\n",
    "        )\n",
    "centre_circle = plt.Circle((0,0), 0.5, fc=\"white\")\n",
    "fig = plt.gcf()\n",
    "fig.set_figwidth(5)\n",
    "fig.set_figheight(5)\n",
    "fig.gca().add_artist(centre_circle)\n",
    "plt.title(\"Porcentaje de genero en las observaciones\")\n",
    "\n",
    "plt.show()"
   ]
  },
  {
   "cell_type": "markdown",
   "metadata": {},
   "source": [
    "#### Hallazgos de la variable genero\n",
    "- Observamos que la mayoria de datos esta en la categoria \"female\", seguida por \"male\" por un 9% aproximadamente.\n",
    "- La variable esta relativamente balanceada para los generos masculino y femenino, pero no para otros(\"other\")."
   ]
  },
  {
   "cell_type": "markdown",
   "metadata": {},
   "source": [
    "### Smoking status\n",
    "Dentro de esta viarable tenemos 4 categorias:\n",
    "- Unknown\n",
    "- Never smoked\n",
    "- Formerly smoked\n",
    "- Smokes"
   ]
  },
  {
   "cell_type": "code",
   "execution_count": 18,
   "metadata": {},
   "outputs": [
    {
     "data": {
      "text/plain": [
       "smoking_status\n",
       "never smoked       37.025440\n",
       "Unknown            30.215264\n",
       "formerly smoked    17.318982\n",
       "smokes             15.440313\n",
       "Name: proportion, dtype: float64"
      ]
     },
     "execution_count": 18,
     "metadata": {},
     "output_type": "execute_result"
    },
    {
     "data": {
      "text/plain": [
       "Index(['Unknown', 'formerly smoked', 'never smoked', 'smokes'], dtype='object')"
      ]
     },
     "execution_count": 18,
     "metadata": {},
     "output_type": "execute_result"
    },
    {
     "data": {
      "text/plain": [
       "smoking_status\n",
       "never smoked       1892\n",
       "Unknown            1544\n",
       "formerly smoked     885\n",
       "smokes              789\n",
       "Name: count, dtype: int64"
      ]
     },
     "execution_count": 18,
     "metadata": {},
     "output_type": "execute_result"
    }
   ],
   "source": [
    "# creamos los procentajes de los datos\n",
    "pc_smoking_status=data.smoking_status.value_counts(normalize=True)*100\n",
    "pc_smoking_status\n",
    "\n",
    "labels_smoking_status = pc_smoking_status.index.categories\n",
    "labels_smoking_status\n",
    "\n",
    "#Creamos las frecuencias de cada categoria\n",
    "freq_smoking_status=data.smoking_status.value_counts()\n",
    "freq_smoking_status"
   ]
  },
  {
   "cell_type": "code",
   "execution_count": 19,
   "metadata": {},
   "outputs": [
    {
     "data": {
      "text/plain": [
       "([<matplotlib.patches.Wedge at 0x1543ff910>,\n",
       "  <matplotlib.patches.Wedge at 0x1544a4f10>,\n",
       "  <matplotlib.patches.Wedge at 0x1544a6dd0>,\n",
       "  <matplotlib.patches.Wedge at 0x1544b0b90>],\n",
       " [Text(0.4360558052658317, 1.0098788712979232, 'never smoked'),\n",
       "  Text(-1.090135360565775, -0.14698603894291268, 'Unknown'),\n",
       "  Text(0.062183366884617904, -1.0982409703170308, 'formerly smoked'),\n",
       "  Text(0.973105379249873, -0.5128995231767731, 'smokes')],\n",
       " [Text(0.23784862105409, 0.550843020707958, '37.0%'),\n",
       "  Text(-0.5946192875813319, -0.08017420305977054, '30.2%'),\n",
       "  Text(0.03391820011888249, -0.5990405292638349, '17.3%'),\n",
       "  Text(0.5307847523181124, -0.27976337627823983, '15.4%')])"
      ]
     },
     "execution_count": 19,
     "metadata": {},
     "output_type": "execute_result"
    },
    {
     "data": {
      "text/plain": [
       "<BarContainer object of 4 artists>"
      ]
     },
     "execution_count": 19,
     "metadata": {},
     "output_type": "execute_result"
    },
    {
     "data": {
      "text/plain": [
       "<Axes: xlabel='smoking_status', ylabel='count'>"
      ]
     },
     "execution_count": 19,
     "metadata": {},
     "output_type": "execute_result"
    },
    {
     "data": {
      "image/png": "[encoded data removed]",
      "text/plain": [
       "<Figure size 1500x600 with 3 Axes>"
      ]
     },
     "metadata": {},
     "output_type": "display_data"
    }
   ],
   "source": [
    "fig, ax = plt.subplots(1,3, figsize=(15,6))\n",
    "# Gráfico pie\n",
    "ax[0].pie(pc_smoking_status,\n",
    "        labels=pc_smoking_status.index,\n",
    "        autopct=\"%.1f%%\")\n",
    "ax[0].title.set_text(\"Porcentaje de estados alrededor de fumar\")\n",
    "\n",
    "# Gráfico de barras\n",
    "ax[1].bar(freq_smoking_status.index,\n",
    "            height=freq_smoking_status.values)\n",
    "ax[1].title.set_text(\"Frecuencia por estado de fumar\")\n",
    "ax[1].tick_params(axis=\"x\", rotation=45)\n",
    "#Creamos el segundo plot de barras de seanborn\n",
    "sns.countplot(data=data, x=\"smoking_status\", ax=ax[2])\n",
    "ax[2].tick_params(axis=\"x\", rotation=45)"
   ]
  },
  {
   "cell_type": "markdown",
   "metadata": {},
   "source": [
    "#### Hallazgos\n",
    "- Tenemos un gran volumen de datos que están categorizados como \"unknown\" (30.2%), lo cual significa que no sabemos si fumaron o no. Esto reduce nuestos datos utilizables para encontrar una correlación entre fumar y los derrames.\n",
    "- El 37% de los datos registran que nunca han fumado, lo cual presenta un desequilibro con respecto a las personas que fuman (15.4%) y a las que fumaban (17.3%)."
   ]
  },
  {
   "cell_type": "markdown",
   "metadata": {},
   "source": [
    "### Age\n",
    "Es una variable de razon que registra las edades de las observaciones.\n",
    "\n",
    "Al ser de razon haremos uso de histogramas\n"
   ]
  },
  {
   "cell_type": "code",
   "execution_count": 20,
   "metadata": {},
   "outputs": [
    {
     "data": {
      "text/plain": [
       "<Axes: xlabel='age', ylabel='Count'>"
      ]
     },
     "execution_count": 20,
     "metadata": {},
     "output_type": "execute_result"
    },
    {
     "data": {
      "image/png": "[encoded data removed]",
      "text/plain": [
       "<Figure size 500x300 with 1 Axes>"
      ]
     },
     "metadata": {},
     "output_type": "display_data"
    }
   ],
   "source": [
    "fig, ax = plt.subplots(figsize=(5,3))\n",
    "sns.histplot(data=data, x=\"age\", bins=40, color=\"Skyblue\")"
   ]
  },
  {
   "cell_type": "markdown",
   "metadata": {},
   "source": [
    "#### Interpretacion de histograma de edad\n",
    "- Los datos de edad estan bastanque equilibrados ya que contamos con datos de personas jovenes, asi como de personas adultas y mayores"
   ]
  },
  {
   "cell_type": "code",
   "execution_count": 21,
   "metadata": {},
   "outputs": [
    {
     "data": {
      "text/plain": [
       "<Axes: xlabel='age', ylabel='Count'>"
      ]
     },
     "execution_count": 21,
     "metadata": {},
     "output_type": "execute_result"
    },
    {
     "data": {
      "text/plain": [
       "<Axes: xlabel='age'>"
      ]
     },
     "execution_count": 21,
     "metadata": {},
     "output_type": "execute_result"
    },
    {
     "data": {
      "text/plain": [
       "<Axes: ylabel='age'>"
      ]
     },
     "execution_count": 21,
     "metadata": {},
     "output_type": "execute_result"
    },
    {
     "data": {
      "text/plain": [
       "<Axes: xlabel='age'>"
      ]
     },
     "execution_count": 21,
     "metadata": {},
     "output_type": "execute_result"
    },
    {
     "data": {
      "image/png": "[encoded data removed]",
      "text/plain": [
       "<Figure size 800x600 with 4 Axes>"
      ]
     },
     "metadata": {},
     "output_type": "display_data"
    }
   ],
   "source": [
    "fig, ax = plt.subplots(2,2, figsize=(8,6))\n",
    "# Usamos un histograma con referencia a si tuvieron o no un derrame (0: no tuvieron, 1: si tuvieron)\n",
    "sns.histplot(data=data_dumms_todas, x=\"age\", hue=\"stroke_1\", kde=True, ax=ax[0,0], palette=\"Blues\")\n",
    "#grafica de bigotes\n",
    "sns.boxplot(x=data_dumms_todas.age, ax=ax[0,1], palette=\"Blues\")\n",
    "sns.barplot(data=data_dumms_todas, y=\"age\", errcolor=\"red\", ax=ax[1,0], palette=\"Blues\")\n",
    "sns.violinplot(x=data_dumms_todas.age, ax=ax[1,1], palette=\"Blues\")"
   ]
  },
  {
   "cell_type": "code",
   "execution_count": 22,
   "metadata": {},
   "outputs": [
    {
     "data": {
      "text/plain": [
       "count    5110.000000\n",
       "mean       43.226614\n",
       "std        22.612647\n",
       "min         0.080000\n",
       "25%        25.000000\n",
       "50%        45.000000\n",
       "75%        61.000000\n",
       "max        82.000000\n",
       "Name: age, dtype: float64"
      ]
     },
     "execution_count": 22,
     "metadata": {},
     "output_type": "execute_result"
    }
   ],
   "source": [
    "data_dumms_todas.age.describe()"
   ]
  },
  {
   "cell_type": "code",
   "execution_count": null,
   "metadata": {},
   "outputs": [],
   "source": []
  },
  {
   "cell_type": "markdown",
   "metadata": {},
   "source": [
    "#### Hallazgos e interpretaciones\n",
    "- Tenemos una desviación estándar bastante reducida, lo cual indica una baja dispersión de los datos.\n",
    "- Los derrames parecen ser más comunes en edades más altas, siendo 40 años, aproximadamente, donde empiezan a volverse más comunes y la curva empieza a subir\n",
    "- La media es un poco menor que la mediana (50%).\n",
    "- La densidad de 40 a 60 años es mayore que el resto de edades"
   ]
  },
  {
   "cell_type": "markdown",
   "metadata": {},
   "source": [
    "# Samantha"
   ]
  },
  {
   "cell_type": "markdown",
   "metadata": {},
   "source": [
    "# Samantha\n",
    "Yo me encargaré del análisis univariado para las siguientes varaibles\n",
    "- heart disease\n",
    "- average glucose level"
   ]
  },
  {
   "cell_type": "code",
   "execution_count": null,
   "metadata": {},
   "outputs": [],
   "source": [
    "pc_heart_disease = data.heart_disease.value_counts(normalize=True)*100\n",
    "pc_heart_disease"
   ]
  },
  {
   "cell_type": "code",
   "execution_count": null,
   "metadata": {},
   "outputs": [],
   "source": [
    "fig, ax = plt.subplots(1,2, figsize=(15,6))\n",
    "palette_color = ['#db7093', '#93DB70'] \n",
    "lables=['no', 'yes']\n",
    "#Pie\n",
    "ax[0].pie(pc_heart_disease, labels = lables, colors=palette_color,autopct=\"%.1f%%\",pctdistance=0.75)\n",
    "ax[0].title.set_text('Porcentaje de pacienentes con enfermedades cardiacas')\n",
    "#Countplot\n",
    "sns.countplot(data=data, x =\"heart_disease\",palette=[\"#7093DB\", '#f0e68c'],ax=ax[1])\n",
    "ax[1].title.set_text('Frecuncias de pacientes con enfermedad cardiaca')\n",
    "plt.show()"
   ]
  },
  {
   "cell_type": "markdown",
   "metadata": {},
   "source": [
    "### Hallazgos de la variable de Heart Disease \n",
    "+ Podemos ver que la mayoria de la población estudiada no presenta ninguna enfermedad en el corazón, siendo un 94.6%. \n",
    "+ Con el histograma de la frecuencia podemos ver que los datos están desvalanceados ya que las personas que padecen de este tipo de enfermedades es poca pero por la cantidad de datos no es despreciable."
   ]
  },
  {
   "cell_type": "code",
   "execution_count": null,
   "metadata": {},
   "outputs": [],
   "source": [
    "#Histograma del nivel de glucosa\n",
    "fig, ax = plt.subplots(1,2, figsize=(15,6))\n",
    "sns.histplot(data=data, x=\"avg_glucose_level\",kde=True,ax=ax[0], color='#B28FCE')\n",
    "ax[0].title.set_text('Histograma de nivel de glucosa')\n",
    "#Histograma llevado a logaritmica para intentar normalizar los datos\n",
    "sns.histplot(data=data, x=\"avg_glucose_level\", kde=True, log_scale=True, ax=ax[1], color='#39A5A5', bins= 60)\n",
    "ax[1].title.set_text('Histograma de nivel de glucosa trans log')"
   ]
  },
  {
   "cell_type": "code",
   "execution_count": null,
   "metadata": {},
   "outputs": [],
   "source": [
    "#Se ajusta el boxplot para evitar el exceso de outliers, que no se borrán porque pueden ser de interes para futuros analisis\n",
    "sns.boxplot(data=data,x='avg_glucose_level', whis=2.0, color='#6EAA89')"
   ]
  },
  {
   "cell_type": "code",
   "execution_count": null,
   "metadata": {},
   "outputs": [],
   "source": [
    "data[\"avg_glucose_bn\"] = pd.qcut(data.avg_glucose_level, q=4)\n",
    "data[\"avg_glucose_bn\"]"
   ]
  },
  {
   "cell_type": "code",
   "execution_count": null,
   "metadata": {},
   "outputs": [],
   "source": [
    "data[\"avg_glucose_bn\"].cat.codes.value_counts()\n",
    "sns.boxplot(data=data[\"avg_glucose_bn\"].cat.codes)"
   ]
  },
  {
   "cell_type": "code",
   "execution_count": null,
   "metadata": {},
   "outputs": [],
   "source": [
    "sns.histplot(data=data, x=\"avg_glucose_level\", hue='avg_glucose_bn',kde=True, element='step', stat='density')"
   ]
  },
  {
   "cell_type": "markdown",
   "metadata": {},
   "source": [
    "### Hallazgos de la variable de Avg Glucose Level\n",
    "+ En el histograma pudimos observar que los datos no están normalizados ni siquiera cuando de les aplica una función log. Esto nos dice que el nivel de glucosa en su mayoria de encuentra entre el 70 y 100, pero una gran parte de la población de la muestra también maneja su nivel de glucos entre los 170 y 250 \n",
    "+ Con la variable del promedio del nivel de glucosa podemos ver que la mediana esta por el 90 y el primer rango intercuartil y el tercero están en el 77  y 114 respectivamente.\n",
    "+ En el caso del boxplot obtivimos demasiados outliers por lo mismo de que un buen porcentaje de la población manejaba su nivel de glucosa más alto, por lo que tuvo que añadir una nueva columna donde de le aplico un qcut a los datos para poder meterlos en rangos y poder analisarlos. De esta la mediana nos queda en 1.5 que seria un valor intermedio entre el  1(114.09, 271.74] y el  2(91.885, 114.09]"
   ]
  },
  {
   "cell_type": "markdown",
   "metadata": {},
   "source": [
    "# Emiliano"
   ]
  },
  {
   "cell_type": "markdown",
   "metadata": {},
   "source": [
    "# Roberto"
   ]
  }
 ],
 "metadata": {
  "kernelspec": {
   "display_name": "Python 3",
   "language": "python",
   "name": "python3"
  },
  "language_info": {
   "codemirror_mode": {
    "name": "ipython",
    "version": 3
   },
   "file_extension": ".py",
   "mimetype": "text/x-python",
   "name": "python",
   "nbconvert_exporter": "python",
   "pygments_lexer": "ipython3",
   "version": "3.11.4"
  },
  "orig_nbformat": 4
 },
 "nbformat": 4,
 "nbformat_minor": 2
}
